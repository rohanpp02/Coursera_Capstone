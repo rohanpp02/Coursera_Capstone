{
 "cells": [
  {
   "cell_type": "markdown",
   "source": [
    "Problem Statement:\r\n",
    "Using Clustering to find similar neighborhoods to the current location in order to find the most suitable place for opening up another branch of your business."
   ],
   "metadata": {}
  },
  {
   "cell_type": "markdown",
   "source": [
    "Background:\r\n",
    "\r\n"
   ],
   "metadata": {}
  },
  {
   "cell_type": "markdown",
   "source": [
    "Imagine you have a shop or any business in the outskirts of New York city and the business does well in your current neighborhood due to several geospatial feautres in proximity such as other business, parks, offices, etc. "
   ],
   "metadata": {}
  },
  {
   "cell_type": "markdown",
   "source": [
    "Now you wish to open another branch of your business, in Manhantan for instance. But how do you decide which neighbourhood inside Manhattan would be most suitable for your business and would ensure that your new branch continues to thrive as much as your current branch? You solve this problem why finding out all neighbourhoods in Manhattan that are similar to your current neighborhood."
   ],
   "metadata": {}
  },
  {
   "cell_type": "markdown",
   "source": [],
   "metadata": {}
  },
  {
   "cell_type": "markdown",
   "source": [
    "Data Description"
   ],
   "metadata": {}
  },
  {
   "cell_type": "markdown",
   "source": [
    "So how does one decide which neighborhood is similar to your current neighbourhood? This is where data science comes in. "
   ],
   "metadata": {}
  },
  {
   "cell_type": "markdown",
   "source": [
    "We will use the New York city JSON data set which is available on the IBM Developer Skills Network (https://cf-courses-data.s3.us.cloud-object-storage.appdomain.cloud/IBMDeveloperSkillsNetwork-DS0701EN-SkillsNetwork/labs/newyork_data.json). Tjis dataset contains the different neighbourhoods in Newrok city along with their Latitude and Longitude.\r\n"
   ],
   "metadata": {}
  },
  {
   "cell_type": "markdown",
   "source": [
    "With the help of this datasets latitude and longitude data we will leverage the Foursquare API to explore each neighbourhood and find the most prominent and commonly occuring venues in that neighbourhoods vicinity. Once we have these details we will use these as our feature vector in order to fit this data in clustering machine learning algorithm such as K means clustering or DBSCAN. "
   ],
   "metadata": {}
  },
  {
   "cell_type": "markdown",
   "source": [
    "These clustering algorithms will group neighbourhoods of similar type based on the feature set (in our case most common venues in the vicinity information) and label them in different clusters. "
   ],
   "metadata": {}
  },
  {
   "cell_type": "markdown",
   "source": [
    "After this point it becomes a simple problem of identifying the neighbourhoods in Manhattan which belong to the same cluster as our current neighbourhood. These are Neighbourhoods which are most suitable to open up our new branch which will see favourable market conditions similar to your current branch. "
   ],
   "metadata": {}
  }
 ],
 "metadata": {
  "orig_nbformat": 4,
  "language_info": {
   "name": "python"
  }
 },
 "nbformat": 4,
 "nbformat_minor": 2
}